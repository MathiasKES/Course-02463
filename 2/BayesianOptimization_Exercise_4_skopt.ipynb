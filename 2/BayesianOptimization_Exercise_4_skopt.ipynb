{
 "cells": [
  {
   "cell_type": "code",
   "execution_count": 41,
   "metadata": {
    "colab": {
     "base_uri": "https://localhost:8080/",
     "height": 367
    },
    "colab_type": "code",
    "id": "Q1wnryKmxkOz",
    "outputId": "f719230f-6b4c-4861-e404-884ecc7d57ec"
   },
   "outputs": [],
   "source": [
    "import numpy as np\n",
    "import matplotlib.pyplot as plt\n",
    "from torchvision import datasets, transforms, utils\n",
    "from sklearn.ensemble import RandomForestClassifier\n",
    "from sklearn.model_selection import ParameterSampler, RandomizedSearchCV, cross_val_score\n",
    "from scipy.stats import uniform\n",
    "import random\n",
    "np.random.seed(32)\n",
    "random.seed(32)"
   ]
  },
  {
   "cell_type": "markdown",
   "metadata": {
    "colab_type": "text",
    "id": "G6ZbPxoDxkPB"
   },
   "source": [
    "# Hyperparameters tuning using Bayesian Optimization with the skopt library\n",
    "\n",
    "As you are going to see, the project for this first part of the course will be to use Bayesian Optimization to tune the hyperparameters of a Random forest classifier. To do that you are going to use a library that is more optimized compare to the code from scratch that we have written before.\n",
    "\n",
    "In this exercise you are going to use Bayesian Optimization to select the best hyperparameters of a random forest trained on part of the MNIST dataset. You are going also to compare it with respect to a random search on the hyperparameter space.\n"
   ]
  },
  {
   "cell_type": "code",
   "execution_count": 42,
   "metadata": {
    "colab": {},
    "colab_type": "code",
    "id": "uup6huN4xkPJ"
   },
   "outputs": [],
   "source": [
    "def load_MNIST():\n",
    "    '''\n",
    "    Function to load the MNIST training and test set with corresponding labels.\n",
    "\n",
    "    :return: training_examples, training_labels, test_examples, test_labels\n",
    "    '''\n",
    "\n",
    "    # we want to flat the examples\n",
    "\n",
    "    training_set = datasets.MNIST(root='./data', train=True, download=True, transform= None)\n",
    "    test_set = datasets.MNIST(root='./data', train=False, download=True, transform= None)\n",
    "\n",
    "    Xtrain = training_set.data.numpy().reshape(-1,28*28)\n",
    "    Xtest = test_set.data.numpy().reshape(-1,28*28)\n",
    "\n",
    "    ytrain = training_set.targets.numpy()\n",
    "    ytest = test_set.targets.numpy()\n",
    "\n",
    "    return Xtrain, ytrain, Xtest, ytest"
   ]
  },
  {
   "cell_type": "code",
   "execution_count": 43,
   "metadata": {
    "colab": {},
    "colab_type": "code",
    "id": "CIx5w0wjxkPR"
   },
   "outputs": [
    {
     "name": "stdout",
     "output_type": "stream",
     "text": [
      "Information about the new datasets\n",
      "Training set shape: (1000, 784)\n",
      "Test set shape (10000, 784)\n"
     ]
    }
   ],
   "source": [
    "## since training a random forest on the entire dataset takes some time\n",
    "## we can consider only few labels, like 3, 5, 8 and 9\n",
    "\n",
    "## we can load the training set and test set\n",
    "Xtrain, ytrain, Xtest, ytest = load_MNIST()\n",
    "\n",
    "# Limit the number of training examples mainly just for speed\n",
    "Xtrain=Xtrain[:1000]\n",
    "ytrain=ytrain[:1000]\n",
    "\n",
    "\n",
    "# print some information\n",
    "print('Information about the new datasets')\n",
    "print('Training set shape:', Xtrain.shape)\n",
    "print('Test set shape', Xtest.shape)"
   ]
  },
  {
   "cell_type": "markdown",
   "metadata": {
    "colab_type": "text",
    "id": "YLelVc36xkPa"
   },
   "source": [
    "## Random forest\n",
    "\n",
    "As you have seen in your Machine Learning course, there are a lot of hyperparameters to choose before training a Random Forest. If you look at the [sklearn documentation](https://scikit-learn.org/stable/modules/generated/sklearn.ensemble.RandomForestClassifier.html) you can notice all the paramters. For this exercise we will focus only on the following four hyperparameters:\n",
    "\n",
    "1. **n_estimators**: the number of decision trees that are in the forest;\n",
    "2. **criterion**: the criterion to evaluate the split. We should decide between *Gini impurity* (`gini`) and *information gain* (`entropy`);\n",
    "3. **max_depth**: Maximum depth of the trees. If None, the tree expands until we have a element in all the leaves or  until all leaves contain less than min_samples_split samples.\n",
    "4. **max_features**: The number of features to consider when looking for the best split. We have to choose among `'sqrt'` where we consider `sqrt(n_features)`, `'log2'` where we consider `log2(n_features)` or None which will just use all features.\n",
    "\n",
    "Remember that when we are using Random Forest we can avoid running the cross-validation to get the validation error as approximation of the test error, but instead we can use the *out of bag* error to get an approximation of the test error we are going to get when we consider unseen example. "
   ]
  },
  {
   "cell_type": "code",
   "execution_count": 44,
   "metadata": {
    "colab": {},
    "colab_type": "code",
    "id": "gKz2Nq5OxkPc"
   },
   "outputs": [
    {
     "name": "stdout",
     "output_type": "stream",
     "text": [
      "Default model out of bag error 0.725\n",
      "Default model test accuracy 0.7841\n"
     ]
    },
    {
     "name": "stderr",
     "output_type": "stream",
     "text": [
      "/home/mathias/miniconda3/envs/02463/lib/python3.12/site-packages/sklearn/ensemble/_forest.py:612: UserWarning: Some inputs do not have OOB scores. This probably means too few trees were used to compute any reliable OOB estimates.\n",
      "  warn(\n"
     ]
    }
   ],
   "source": [
    "model = RandomForestClassifier(oob_score=True,n_estimators=10,criterion='gini',max_depth=10,max_features='sqrt')\n",
    "model.fit(Xtrain, ytrain)\n",
    "print('Default model out of bag error', model.oob_score_)\n",
    "print('Default model test accuracy', model.score(Xtest, ytest))"
   ]
  },
  {
   "cell_type": "markdown",
   "metadata": {
    "colab_type": "text",
    "id": "D2DIwTl5xkPk"
   },
   "source": [
    "### Random search \n",
    "\n",
    "A possible way to find the best hyperparameters is to use random search over the parameter space. To perform this operation we can use `RandomizedSearchCV`. You can look at the documentation [here](https://scikit-learn.org/stable/modules/generated/sklearn.model_selection.RandomizedSearchCV.html). However, since we do not need cross-validation for Random Forests, we can use `ParameterSampler` to sample random parameters from our parameter space. Look at the documentation [here](https://scikit-learn.org/stable/modules/generated/sklearn.model_selection.ParameterSampler.html#sklearn.model_selection.ParameterSampler) To be able to use this method you should first define a dictionary of the hyperparameters you want to optimize, in this case the four we mentioned above, and then decide a way to evaluate the model and how many folds for the cross-validation. The dictionary is of the form:\n",
    "\n",
    "```python\n",
    "params = {\"name_params\": uniform(0, 1), # if it is continuous between 0 and 1\n",
    "           \"name_params2\": range(1,50), # if it is discrete but integer\n",
    "           \"name_params3\": ['name1', 'name2']} # if it is discrete but string`\n",
    "```\n",
    "\n",
    "<font color='lightblue'> Tasks:\n",
    "\n",
    "1. <font color='lightblue'> Create the dictionary of the hyperparameters, we recommend keeping the value of the number of trees up to 150 otherwise it takes a very long time and the max_depth up to 100. After that, you can use the dictionary to create a random hyperparameter using `ParameterSampler`. The `ParameterSampler` call is already provided.\n",
    "\n",
    "2. <font color='lightblue'> Using the parameters returned by the `ParameterSampler` you should fit a random forest, and for each iteration you should store the best value of the `model.oob_score_` you get. **HINT:** You can access the hyperparameters value by the name you used in the defined dictionary. (The whole process should take up to a few minutes)"
   ]
  },
  {
   "cell_type": "code",
   "execution_count": 45,
   "metadata": {
    "colab": {},
    "colab_type": "code",
    "id": "tQP9z8AOxkPm"
   },
   "outputs": [
    {
     "name": "stdout",
     "output_type": "stream",
     "text": [
      "Param list\n",
      "[{'n_estimators': 91, 'max_features': 'log2', 'max_depth': 25, 'criterion': 'gini'}, {'n_estimators': 116, 'max_features': None, 'max_depth': 69, 'criterion': 'entropy'}, {'n_estimators': 89, 'max_features': None, 'max_depth': 36, 'criterion': 'entropy'}, {'n_estimators': 2, 'max_features': None, 'max_depth': 46, 'criterion': 'gini'}, {'n_estimators': 95, 'max_features': 'log2', 'max_depth': 56, 'criterion': 'gini'}, {'n_estimators': 134, 'max_features': 'sqrt', 'max_depth': 92, 'criterion': 'entropy'}, {'n_estimators': 119, 'max_features': 'sqrt', 'max_depth': 22, 'criterion': 'entropy'}, {'n_estimators': 101, 'max_features': 'log2', 'max_depth': 20, 'criterion': 'entropy'}, {'n_estimators': 144, 'max_features': 'log2', 'max_depth': 92, 'criterion': 'gini'}, {'n_estimators': 47, 'max_features': None, 'max_depth': 85, 'criterion': 'gini'}, {'n_estimators': 89, 'max_features': 'sqrt', 'max_depth': 22, 'criterion': 'gini'}, {'n_estimators': 66, 'max_features': None, 'max_depth': 72, 'criterion': 'entropy'}, {'n_estimators': 96, 'max_features': None, 'max_depth': 40, 'criterion': 'gini'}, {'n_estimators': 33, 'max_features': 'log2', 'max_depth': 19, 'criterion': 'gini'}, {'n_estimators': 112, 'max_features': None, 'max_depth': 66, 'criterion': 'gini'}, {'n_estimators': 86, 'max_features': None, 'max_depth': 22, 'criterion': 'gini'}, {'n_estimators': 52, 'max_features': None, 'max_depth': 20, 'criterion': 'gini'}, {'n_estimators': 44, 'max_features': 'sqrt', 'max_depth': 53, 'criterion': 'entropy'}, {'n_estimators': 74, 'max_features': 'log2', 'max_depth': 45, 'criterion': 'gini'}, {'n_estimators': 34, 'max_features': 'sqrt', 'max_depth': 27, 'criterion': 'entropy'}]\n",
      "0\n",
      "{'n_estimators': 91, 'max_features': 'log2', 'max_depth': 25, 'criterion': 'gini'}\n",
      "It took 0.21499967575073242 seconds\n",
      "1\n",
      "{'n_estimators': 116, 'max_features': None, 'max_depth': 69, 'criterion': 'entropy'}\n",
      "It took 1.047762155532837 seconds\n",
      "2\n",
      "{'n_estimators': 89, 'max_features': None, 'max_depth': 36, 'criterion': 'entropy'}\n",
      "It took 0.8134088516235352 seconds\n",
      "3\n",
      "{'n_estimators': 2, 'max_features': None, 'max_depth': 46, 'criterion': 'gini'}\n",
      "It took 0.0663762092590332 seconds\n",
      "4\n",
      "{'n_estimators': 95, 'max_features': 'log2', 'max_depth': 56, 'criterion': 'gini'}\n"
     ]
    },
    {
     "name": "stderr",
     "output_type": "stream",
     "text": [
      "/home/mathias/miniconda3/envs/02463/lib/python3.12/site-packages/sklearn/ensemble/_forest.py:612: UserWarning: Some inputs do not have OOB scores. This probably means too few trees were used to compute any reliable OOB estimates.\n",
      "  warn(\n"
     ]
    },
    {
     "name": "stdout",
     "output_type": "stream",
     "text": [
      "It took 0.2221992015838623 seconds\n",
      "5\n",
      "{'n_estimators': 134, 'max_features': 'sqrt', 'max_depth': 92, 'criterion': 'entropy'}\n",
      "It took 0.2672159671783447 seconds\n",
      "6\n",
      "{'n_estimators': 119, 'max_features': 'sqrt', 'max_depth': 22, 'criterion': 'entropy'}\n",
      "It took 0.2502262592315674 seconds\n",
      "7\n",
      "{'n_estimators': 101, 'max_features': 'log2', 'max_depth': 20, 'criterion': 'entropy'}\n",
      "It took 0.2312612533569336 seconds\n",
      "8\n",
      "{'n_estimators': 144, 'max_features': 'log2', 'max_depth': 92, 'criterion': 'gini'}\n",
      "It took 0.3466646671295166 seconds\n",
      "9\n",
      "{'n_estimators': 47, 'max_features': None, 'max_depth': 85, 'criterion': 'gini'}\n",
      "It took 0.31024718284606934 seconds\n",
      "10\n",
      "{'n_estimators': 89, 'max_features': 'sqrt', 'max_depth': 22, 'criterion': 'gini'}\n",
      "It took 0.18812227249145508 seconds\n",
      "11\n",
      "{'n_estimators': 66, 'max_features': None, 'max_depth': 72, 'criterion': 'entropy'}\n",
      "It took 0.6395063400268555 seconds\n",
      "12\n",
      "{'n_estimators': 96, 'max_features': None, 'max_depth': 40, 'criterion': 'gini'}\n",
      "It took 0.5852203369140625 seconds\n",
      "13\n",
      "{'n_estimators': 33, 'max_features': 'log2', 'max_depth': 19, 'criterion': 'gini'}\n",
      "It took 0.08771753311157227 seconds\n",
      "14\n",
      "{'n_estimators': 112, 'max_features': None, 'max_depth': 66, 'criterion': 'gini'}\n",
      "It took 0.7093286514282227 seconds\n",
      "15\n",
      "{'n_estimators': 86, 'max_features': None, 'max_depth': 22, 'criterion': 'gini'}\n",
      "It took 0.570786714553833 seconds\n",
      "16\n",
      "{'n_estimators': 52, 'max_features': None, 'max_depth': 20, 'criterion': 'gini'}\n",
      "It took 0.3676726818084717 seconds\n",
      "17\n",
      "{'n_estimators': 44, 'max_features': 'sqrt', 'max_depth': 53, 'criterion': 'entropy'}\n",
      "It took 0.12419319152832031 seconds\n",
      "18\n",
      "{'n_estimators': 74, 'max_features': 'log2', 'max_depth': 45, 'criterion': 'gini'}\n",
      "It took 0.20365691184997559 seconds\n",
      "19\n",
      "{'n_estimators': 34, 'max_features': 'sqrt', 'max_depth': 27, 'criterion': 'entropy'}\n",
      "It took 0.1060173511505127 seconds\n",
      "Best oob score: 0.887 at iteration 5\n"
     ]
    }
   ],
   "source": [
    "import time\n",
    "# hyperparams dictionary \n",
    "domain = {\"n_estimators\": range(1, 150),\n",
    "          \"criterion\": [\"gini\", \"entropy\"],\n",
    "          \"max_depth\": range(1, 100),\n",
    "          \"max_features\": [\"sqrt\", \"log2\", None]}\n",
    "\n",
    "# create the ParameterSampler\n",
    "param_list = list(ParameterSampler(domain, n_iter=20, random_state=32))\n",
    "print('Param list')\n",
    "print(param_list)\n",
    "\n",
    "## now we can train the random forest using these parameters tuple, and for\n",
    "## each iteration we store the best value of the oob\n",
    "\n",
    "current_best_oob = 0\n",
    "iteration_best_oob = 0 \n",
    "max_oob_per_iteration = []\n",
    "i = 0\n",
    "for params in param_list:\n",
    "    print(i)\n",
    "    print(params)\n",
    "    \n",
    "    #define model here\n",
    "    model = RandomForestClassifier(\n",
    "        n_estimators=params['n_estimators'], \n",
    "        criterion=params['criterion'], \n",
    "        max_depth=params['max_depth'],\n",
    "        max_features=params['max_features'],\n",
    "        oob_score=True, n_jobs=-1)\n",
    "    \n",
    "    start = time.time()\n",
    "    #train the model\n",
    "    model.fit(Xtrain, ytrain)\n",
    "\n",
    "    end = time.time()\n",
    "    # extract oob_score and update current_best_oob if better that the current best\n",
    "    if model.oob_score_ > current_best_oob:\n",
    "        current_best_oob = model.oob_score_\n",
    "        iteration_best_oob = i\n",
    "    \n",
    "    max_oob_per_iteration.append(current_best_oob)\n",
    "    i += 1\n",
    "    print(f'It took {end - start} seconds')\n",
    "\n",
    "print('Best oob score:', current_best_oob, 'at iteration', iteration_best_oob)\n",
    "    "
   ]
  },
  {
   "cell_type": "markdown",
   "metadata": {
    "colab_type": "text",
    "id": "4NmwnVJ2xkPt"
   },
   "source": [
    "### Bayesian Optimization\n",
    "\n",
    "The procedure we are interested in, instead, is Bayesian Optimization. Here we will use the scikit-optimize (skopt) package and the gp_minimize function.\n",
    "For this we will meed to define an objective function and define the bounds to optimize within.\n",
    "<br>Unfortunately, skopt does not allow None to be passed as a categorical option is is actually used here, therefore you have to handle the None option for the max_features by converting the input from a string to None inside the objective function.\n",
    "<br>skopt will use one-out-of-k encoding for categorical variables with more than 2 options\n",
    "\n",
    "In case of random forest, you should return the `oob_score` and not the validation score. If you are going to use other models you should consider the validation set, instead.\n",
    "\n",
    "You should create an Bayesian Optimization instancer using the following function `skopt.gp_minimize`, see the complete description [here](https://scikit-optimize.github.io/stable/modules/generated/skopt.gp_minimize.html).\n",
    "\n",
    "At the end of the optimization, you can access the array of the best parameters by `opt.x`. You can also collect the best `oob_score` per iteration using \n",
    "`np.maximum.accumulate(-opt.func_vals).ravel()`.\n",
    "\n",
    "Investigate the documentation for gp_minimize, use the EI acqusition function and set the xi parameter to 0.1 and the noise to 0.01**2.\n",
    "\n",
    "\n",
    "<font color='lightblue'> Tasks:\n",
    "\n",
    "1. <font color='lightblue'>You should define an objective function which can be called and returns the negative oob_score.\n",
    "\n",
    "2. <font color='lightblue'>In the same plot, show the best `oob_score` per iteration you obtain using the random search and the bayesian optimization. What do you see?\n",
    "\n",
    "    "
   ]
  },
  {
   "cell_type": "code",
   "execution_count": 46,
   "metadata": {
    "colab": {},
    "colab_type": "code",
    "id": "o2TTDArnxkPv"
   },
   "outputs": [
    {
     "name": "stdout",
     "output_type": "stream",
     "text": [
      "2\n",
      "[np.int64(1), np.int64(100), np.str_('sqrt'), np.str_('entropy')]\n",
      "0.27\n"
     ]
    },
    {
     "name": "stderr",
     "output_type": "stream",
     "text": [
      "/home/mathias/miniconda3/envs/02463/lib/python3.12/site-packages/sklearn/ensemble/_forest.py:612: UserWarning: Some inputs do not have OOB scores. This probably means too few trees were used to compute any reliable OOB estimates.\n",
      "  warn(\n"
     ]
    },
    {
     "name": "stdout",
     "output_type": "stream",
     "text": [
      "3\n",
      "[np.int64(100), np.int64(23), np.str_('log2'), np.str_('gini')]\n",
      "0.868\n",
      "4\n",
      "[np.int64(150), np.int64(1), np.str_('sqrt'), np.str_('gini')]\n",
      "0.481\n",
      "5\n",
      "[np.int64(150), np.int64(1), np.str_('log2'), np.str_('entropy')]\n",
      "0.467\n",
      "6\n",
      "[np.int64(136), np.int64(50), np.str_('sqrt'), np.str_('gini')]\n",
      "0.893\n",
      "7\n",
      "[np.int64(4), np.int64(64), np.str_('None'), np.str_('entropy')]\n",
      "0.571\n"
     ]
    },
    {
     "name": "stderr",
     "output_type": "stream",
     "text": [
      "/home/mathias/miniconda3/envs/02463/lib/python3.12/site-packages/sklearn/ensemble/_forest.py:612: UserWarning: Some inputs do not have OOB scores. This probably means too few trees were used to compute any reliable OOB estimates.\n",
      "  warn(\n"
     ]
    },
    {
     "name": "stdout",
     "output_type": "stream",
     "text": [
      "8\n",
      "[np.int64(129), np.int64(70), np.str_('sqrt'), np.str_('gini')]\n",
      "0.869\n",
      "9\n",
      "[np.int64(1), np.int64(1), np.str_('sqrt'), np.str_('gini')]\n",
      "0.136\n"
     ]
    },
    {
     "name": "stderr",
     "output_type": "stream",
     "text": [
      "/home/mathias/miniconda3/envs/02463/lib/python3.12/site-packages/sklearn/ensemble/_forest.py:612: UserWarning: Some inputs do not have OOB scores. This probably means too few trees were used to compute any reliable OOB estimates.\n",
      "  warn(\n"
     ]
    },
    {
     "name": "stdout",
     "output_type": "stream",
     "text": [
      "10\n",
      "[np.int64(137), np.int64(59), np.str_('None'), np.str_('gini')]\n",
      "0.87\n",
      "11\n",
      "[np.int64(150), np.int64(1), np.str_('None'), np.str_('entropy')]\n",
      "0.37\n",
      "12\n",
      "[np.int64(105), np.int64(50), np.str_('log2'), np.str_('gini')]\n",
      "0.879\n",
      "13\n",
      "[np.int64(1), np.int64(100), np.str_('log2'), np.str_('gini')]\n",
      "0.274\n"
     ]
    },
    {
     "name": "stderr",
     "output_type": "stream",
     "text": [
      "/home/mathias/miniconda3/envs/02463/lib/python3.12/site-packages/sklearn/ensemble/_forest.py:612: UserWarning: Some inputs do not have OOB scores. This probably means too few trees were used to compute any reliable OOB estimates.\n",
      "  warn(\n"
     ]
    },
    {
     "name": "stdout",
     "output_type": "stream",
     "text": [
      "14\n",
      "[np.int64(150), np.int64(31), np.str_('sqrt'), np.str_('gini')]\n",
      "0.891\n",
      "15\n",
      "[np.int64(150), np.int64(100), np.str_('log2'), np.str_('gini')]\n",
      "0.888\n",
      "16\n",
      "[np.int64(150), np.int64(87), np.str_('None'), np.str_('gini')]\n",
      "0.87\n",
      "17\n",
      "[np.int64(112), np.int64(100), np.str_('None'), np.str_('gini')]\n",
      "0.88\n",
      "18\n",
      "[np.int64(112), np.int64(37), np.str_('sqrt'), np.str_('gini')]\n",
      "0.88\n",
      "19\n",
      "[np.int64(150), np.int64(100), np.str_('None'), np.str_('entropy')]\n",
      "0.866\n",
      "20\n",
      "[np.int64(78), np.int64(73), np.str_('None'), np.str_('gini')]\n",
      "0.86\n"
     ]
    }
   ],
   "source": [
    "import skopt\n",
    "from skopt import gp_minimize\n",
    "\n",
    "#start at same initial point\n",
    "x0=[param_list[0]['n_estimators'],param_list[0]['max_depth'],param_list[0]['max_features'],param_list[0]['criterion']]\n",
    "if x0[2] is None:\n",
    "    x0[2] = 'None'\n",
    "\n",
    "\n",
    "y0 = -max_oob_per_iteration[0]\n",
    "\n",
    "\n",
    "## define the domain of the considered parameters\n",
    "n_estimators = (1,150)\n",
    "max_depth=(1,100)\n",
    "max_features = ('log2', 'sqrt', 'None')\n",
    "criterion = ('gini', 'entropy')\n",
    "\n",
    "\n",
    "## we have to define the function we want to maximize --> validation accuracy, \n",
    "## note it should take a 2D ndarray but it is ok that it assumes only one point\n",
    "## in this setting\n",
    "global i\n",
    "i = 1\n",
    "def objective_function(x): \n",
    "    if x[2]=='None':\n",
    "        maxf = None\n",
    "    else:\n",
    "        maxf = x[2]\n",
    "    \n",
    "    #create the model\n",
    "    model = RandomForestClassifier(\n",
    "        n_estimators=x[0], \n",
    "        criterion=x[3], \n",
    "        max_depth=x[1], \n",
    "        max_features=maxf, \n",
    "        oob_score=True, n_jobs=-1)\n",
    "    \n",
    "    # fit the model\n",
    "    model.fit(Xtrain, ytrain)\n",
    "    \n",
    "    global i\n",
    "    i += 1\n",
    "    print(i)\n",
    "    print(x)\n",
    "    print(model.oob_score_)\n",
    "    \n",
    "    return - model.oob_score_\n",
    "\n",
    "np.int = int #numpy np.int deprecation workaround\n",
    "opt = gp_minimize(\n",
    "    objective_function, \n",
    "    [n_estimators, max_depth, max_features, criterion], \n",
    "    x0=[x0,], \n",
    "    y0=[y0,], \n",
    "    acq_func='EI', \n",
    "    n_calls=20-1, \n",
    "    n_initial_points=0,\n",
    "    xi=0.1,\n",
    "    noise=0.01**2\n",
    ")"
   ]
  },
  {
   "cell_type": "code",
   "execution_count": 47,
   "metadata": {
    "colab": {},
    "colab_type": "code",
    "id": "1DvhNlzcxkP2"
   },
   "outputs": [
    {
     "data": {
      "image/png": "[encoded data removed]",
      "text/plain": [
       "<Figure size 640x480 with 1 Axes>"
      ]
     },
     "metadata": {},
     "output_type": "display_data"
    }
   ],
   "source": [
    "## comparison between random search and bayesian optimization\n",
    "## we can plot the maximum oob per iteration of the sequence\n",
    "\n",
    "# collect the maximum each iteration of BO\n",
    "y_bo = np.maximum.accumulate(-opt.func_vals).ravel()\n",
    "\n",
    "# define iteration number\n",
    "xs = np.arange(1,21,1)\n",
    "\n",
    "plt.plot(xs, max_oob_per_iteration, 'o-', color = 'red', label='Random Search')\n",
    "plt.plot(xs, y_bo, 'o-', color = 'blue', label='Bayesian Optimization')\n",
    "plt.legend()\n",
    "plt.xlabel('Iterations')\n",
    "plt.ylabel('Out of bag error')\n",
    "plt.title('Comparison between Random Search and Bayesian Optimization')\n",
    "plt.show()"
   ]
  },
  {
   "cell_type": "markdown",
   "metadata": {
    "colab_type": "text",
    "id": "g6dHDP0rU-5r"
   },
   "source": [
    "# [OPTIONAL] Investigate the acquisition function\n",
    "HINTS:<br> Important: note that skopt normalizes the input space between 0 and 1, hence you have to convert the values to evaluate to this interval<br>\n",
    "As the function is of more than 2 dimensional in this case it is not trivial to plot it, therefore keep the categorical variables fixed at some value (for example at zero).<br>Note that skopt actually just uses a normal GP even for the categorical variables in this case, try to thihnk about why this is probably not a good approach.<br> Then you can evaluate the acquisition function on a grid for the remaining two variables using np.meshgrid.\n",
    "<br>\n",
    "<font color='lightblue'>\n",
    "1. <font color='lightblue'> Investigate the dimensionality of the GP (look at the model subclass), how many variables are there?<br>\n",
    "2. <font color='lightblue'> Plot the surrogate function and its standard deviation, you can use the models predict function <br>\n",
    "3. <font color='lightblue'> Take a look at the acqusition function.  The acquisition function can be evaluated using <a href=https://scikit-optimize.github.io/stable/modules/generated/skopt.acquisition.gaussian_ei.html#skopt.acquisition.gaussian_ei>skopt.acquisition.gaussian_ei</a>)"
   ]
  },
  {
   "cell_type": "code",
   "execution_count": 48,
   "metadata": {},
   "outputs": [
    {
     "name": "stdout",
     "output_type": "stream",
     "text": [
      "[[1 0 0]]\n",
      "[[0]]\n",
      "          fun: -0.893\n",
      "            x: [np.int64(136), np.int64(50), np.str_('sqrt'), np.str_('gini')]\n",
      "    func_vals: [-8.640e-01 -2.700e-01 ... -8.660e-01 -8.600e-01]\n",
      "      x_iters: [[91, 25, 'log2', 'gini'], [np.int64(1), np.int64(100), np.str_('sqrt'), np.str_('entropy')], [np.int64(100), np.int64(23), np.str_('log2'), np.str_('gini')], [np.int64(150), np.int64(1), np.str_('sqrt'), np.str_('gini')], [np.int64(150), np.int64(1), np.str_('log2'), np.str_('entropy')], [np.int64(136), np.int64(50), np.str_('sqrt'), np.str_('gini')], [np.int64(4), np.int64(64), np.str_('None'), np.str_('entropy')], [np.int64(129), np.int64(70), np.str_('sqrt'), np.str_('gini')], [np.int64(1), np.int64(1), np.str_('sqrt'), np.str_('gini')], [np.int64(137), np.int64(59), np.str_('None'), np.str_('gini')], [np.int64(150), np.int64(1), np.str_('None'), np.str_('entropy')], [np.int64(105), np.int64(50), np.str_('log2'), np.str_('gini')], [np.int64(1), np.int64(100), np.str_('log2'), np.str_('gini')], [np.int64(150), np.int64(31), np.str_('sqrt'), np.str_('gini')], [np.int64(150), np.int64(100), np.str_('log2'), np.str_('gini')], [np.int64(150), np.int64(87), np.str_('None'), np.str_('gini')], [np.int64(112), np.int64(100), np.str_('None'), np.str_('gini')], [np.int64(112), np.int64(37), np.str_('sqrt'), np.str_('gini')], [np.int64(150), np.int64(100), np.str_('None'), np.str_('entropy')], [np.int64(78), np.int64(73), np.str_('None'), np.str_('gini')]]\n",
      "       models: [GaussianProcessRegressor(kernel=1**2 * Matern(length_scale=[1, 1, 1, 1, 1, 1], nu=2.5) + WhiteKernel(noise_level=0.0001),\n",
      "                                        n_restarts_optimizer=2, noise=0.0001, normalize_y=True,\n",
      "                                        random_state=1688749286), GaussianProcessRegressor(kernel=1**2 * Matern(length_scale=[1, 1, 1, 1, 1, 1], nu=2.5) + WhiteKernel(noise_level=0.0001),\n",
      "                                        n_restarts_optimizer=2, noise=0.0001, normalize_y=True,\n",
      "                                        random_state=1688749286), GaussianProcessRegressor(kernel=1**2 * Matern(length_scale=[1, 1, 1, 1, 1, 1], nu=2.5) + WhiteKernel(noise_level=0.0001),\n",
      "                                        n_restarts_optimizer=2, noise=0.0001, normalize_y=True,\n",
      "                                        random_state=1688749286), GaussianProcessRegressor(kernel=1**2 * Matern(length_scale=[1, 1, 1, 1, 1, 1], nu=2.5) + WhiteKernel(noise_level=0.0001),\n",
      "                                        n_restarts_optimizer=2, noise=0.0001, normalize_y=True,\n",
      "                                        random_state=1688749286), GaussianProcessRegressor(kernel=1**2 * Matern(length_scale=[1, 1, 1, 1, 1, 1], nu=2.5) + WhiteKernel(noise_level=0.0001),\n",
      "                                        n_restarts_optimizer=2, noise=0.0001, normalize_y=True,\n",
      "                                        random_state=1688749286), GaussianProcessRegressor(kernel=1**2 * Matern(length_scale=[1, 1, 1, 1, 1, 1], nu=2.5) + WhiteKernel(noise_level=0.0001),\n",
      "                                        n_restarts_optimizer=2, noise=0.0001, normalize_y=True,\n",
      "                                        random_state=1688749286), GaussianProcessRegressor(kernel=1**2 * Matern(length_scale=[1, 1, 1, 1, 1, 1], nu=2.5) + WhiteKernel(noise_level=0.0001),\n",
      "                                        n_restarts_optimizer=2, noise=0.0001, normalize_y=True,\n",
      "                                        random_state=1688749286), GaussianProcessRegressor(kernel=1**2 * Matern(length_scale=[1, 1, 1, 1, 1, 1], nu=2.5) + WhiteKernel(noise_level=0.0001),\n",
      "                                        n_restarts_optimizer=2, noise=0.0001, normalize_y=True,\n",
      "                                        random_state=1688749286), GaussianProcessRegressor(kernel=1**2 * Matern(length_scale=[1, 1, 1, 1, 1, 1], nu=2.5) + WhiteKernel(noise_level=0.0001),\n",
      "                                        n_restarts_optimizer=2, noise=0.0001, normalize_y=True,\n",
      "                                        random_state=1688749286), GaussianProcessRegressor(kernel=1**2 * Matern(length_scale=[1, 1, 1, 1, 1, 1], nu=2.5) + WhiteKernel(noise_level=0.0001),\n",
      "                                        n_restarts_optimizer=2, noise=0.0001, normalize_y=True,\n",
      "                                        random_state=1688749286), GaussianProcessRegressor(kernel=1**2 * Matern(length_scale=[1, 1, 1, 1, 1, 1], nu=2.5) + WhiteKernel(noise_level=0.0001),\n",
      "                                        n_restarts_optimizer=2, noise=0.0001, normalize_y=True,\n",
      "                                        random_state=1688749286), GaussianProcessRegressor(kernel=1**2 * Matern(length_scale=[1, 1, 1, 1, 1, 1], nu=2.5) + WhiteKernel(noise_level=0.0001),\n",
      "                                        n_restarts_optimizer=2, noise=0.0001, normalize_y=True,\n",
      "                                        random_state=1688749286), GaussianProcessRegressor(kernel=1**2 * Matern(length_scale=[1, 1, 1, 1, 1, 1], nu=2.5) + WhiteKernel(noise_level=0.0001),\n",
      "                                        n_restarts_optimizer=2, noise=0.0001, normalize_y=True,\n",
      "                                        random_state=1688749286), GaussianProcessRegressor(kernel=1**2 * Matern(length_scale=[1, 1, 1, 1, 1, 1], nu=2.5) + WhiteKernel(noise_level=0.0001),\n",
      "                                        n_restarts_optimizer=2, noise=0.0001, normalize_y=True,\n",
      "                                        random_state=1688749286), GaussianProcessRegressor(kernel=1**2 * Matern(length_scale=[1, 1, 1, 1, 1, 1], nu=2.5) + WhiteKernel(noise_level=0.0001),\n",
      "                                        n_restarts_optimizer=2, noise=0.0001, normalize_y=True,\n",
      "                                        random_state=1688749286), GaussianProcessRegressor(kernel=1**2 * Matern(length_scale=[1, 1, 1, 1, 1, 1], nu=2.5) + WhiteKernel(noise_level=0.0001),\n",
      "                                        n_restarts_optimizer=2, noise=0.0001, normalize_y=True,\n",
      "                                        random_state=1688749286), GaussianProcessRegressor(kernel=1**2 * Matern(length_scale=[1, 1, 1, 1, 1, 1], nu=2.5) + WhiteKernel(noise_level=0.0001),\n",
      "                                        n_restarts_optimizer=2, noise=0.0001, normalize_y=True,\n",
      "                                        random_state=1688749286), GaussianProcessRegressor(kernel=1**2 * Matern(length_scale=[1, 1, 1, 1, 1, 1], nu=2.5) + WhiteKernel(noise_level=0.0001),\n",
      "                                        n_restarts_optimizer=2, noise=0.0001, normalize_y=True,\n",
      "                                        random_state=1688749286), GaussianProcessRegressor(kernel=1**2 * Matern(length_scale=[1, 1, 1, 1, 1, 1], nu=2.5) + WhiteKernel(noise_level=0.0001),\n",
      "                                        n_restarts_optimizer=2, noise=0.0001, normalize_y=True,\n",
      "                                        random_state=1688749286), GaussianProcessRegressor(kernel=1**2 * Matern(length_scale=[1, 1, 1, 1, 1, 1], nu=2.5) + WhiteKernel(noise_level=0.0001),\n",
      "                                        n_restarts_optimizer=2, noise=0.0001, normalize_y=True,\n",
      "                                        random_state=1688749286)]\n",
      "        space: Space([Integer(low=1, high=150, prior='uniform', transform='normalize'),\n",
      "                      Integer(low=1, high=100, prior='uniform', transform='normalize'),\n",
      "                      Categorical(categories=('log2', 'sqrt', 'None'), prior=None),\n",
      "                      Categorical(categories=('gini', 'entropy'), prior=None)])\n",
      " random_state: RandomState(MT19937)\n",
      "        specs:     args:                    func: <function objective_function at 0x771909bb7740>\n",
      "                                      dimensions: Space([Integer(low=1, high=150, prior='uniform', transform='normalize'),\n",
      "                                                         Integer(low=1, high=100, prior='uniform', transform='normalize'),\n",
      "                                                         Categorical(categories=('log2', 'sqrt', 'None'), prior=None),\n",
      "                                                         Categorical(categories=('gini', 'entropy'), prior=None)])\n",
      "                                  base_estimator: GaussianProcessRegressor(kernel=1**2 * Matern(length_scale=[1, 1, 1, 1, 1, 1], nu=2.5),\n",
      "                                                                           n_restarts_optimizer=2, noise=0.0001, normalize_y=True,\n",
      "                                                                           random_state=1688749286)\n",
      "                                         n_calls: 19\n",
      "                                 n_random_starts: None\n",
      "                                n_initial_points: 0\n",
      "                         initial_point_generator: random\n",
      "                                        acq_func: EI\n",
      "                                   acq_optimizer: auto\n",
      "                                              x0: [[91, 25, 'log2', 'gini']]\n",
      "                                              y0: [-0.864]\n",
      "                                    random_state: RandomState(MT19937)\n",
      "                                         verbose: False\n",
      "                                        callback: None\n",
      "                                        n_points: 10000\n",
      "                            n_restarts_optimizer: 5\n",
      "                                              xi: 0.1\n",
      "                                           kappa: 1.96\n",
      "                                          n_jobs: 1\n",
      "                                model_queue_size: None\n",
      "                                space_constraint: None\n",
      "               function: base_minimize\n",
      "(6, 15000)\n"
     ]
    }
   ],
   "source": [
    "# the line below shows how to encode 'log2' as max_features\n",
    "print(opt.space[2][1].transform(['log2']))\n",
    "# the line below shows how to encode the criterion 'gini'\n",
    "print(opt.space[3][1].transform(['gini']))\n",
    "\n",
    "n_estimators = (1,151) #add 1 to include limit\n",
    "max_depth=(1,101) #add 1 to include the limit\n",
    "\n",
    "\n",
    "#We start by taking a look a the model subclass of our Bayesian optimization object\n",
    "print(opt)\n",
    "#get the last model\n",
    "model = opt.models[-1]\n",
    "#To get a plot of the acquisition function we use the model's predict function\n",
    "#first we define a sensible grid for the first to parameters\n",
    "#indexing='ij' ensures that x/y axes are not flipped (which is default):\n",
    "#note that the acqusition function can actually take any value not only integers as it lives in the GP space\n",
    "#and it is quite fast to evaluate even for many points\n",
    "\n",
    "# this code will create an array of points to evaluate the function in the normalized space\n",
    "# the result should be a 6xNpoints array where the first two rows are the n_estimators and max_depth\n",
    "# the last 4 column are for the categorical variables, to encode 'log2' the first column is set to 1\n",
    "# the last column will indicate 'gini' as the first option for the criterion\n",
    "pgrid = np.array(np.meshgrid(np.arange(*n_estimators), np.arange(*max_depth),indexing='ij'))\n",
    "pgrid_norm = np.array([opt.space[i][1].transform(x) for i,x in enumerate(pgrid.reshape(2,-1))])\n",
    "extra_dims = np.zeros((4,pgrid_norm.shape[1]))\n",
    "extra_dims[0,:] = 1\n",
    "pgrid_norm = np.concatenate((pgrid_norm,extra_dims),axis=0)\n",
    "print(pgrid_norm.shape)\n"
   ]
  },
  {
   "cell_type": "code",
   "execution_count": 49,
   "metadata": {},
   "outputs": [
    {
     "ename": "NameError",
     "evalue": "name 'ye_img' is not defined",
     "output_type": "error",
     "traceback": [
      "\u001b[0;31m---------------------------------------------------------------------------\u001b[0m",
      "\u001b[0;31mNameError\u001b[0m                                 Traceback (most recent call last)",
      "Cell \u001b[0;32mIn[49], line 5\u001b[0m\n\u001b[1;32m      1\u001b[0m \u001b[38;5;66;03m# write code to evaluate the surrogate function and it's standard deviation in the normalized grid\u001b[39;00m\n\u001b[1;32m      2\u001b[0m \u001b[38;5;66;03m# then reshape into image and plot using the plt.imshow function (already provided)\u001b[39;00m\n\u001b[1;32m      4\u001b[0m plt\u001b[38;5;241m.\u001b[39mfigure()\n\u001b[0;32m----> 5\u001b[0m plt\u001b[38;5;241m.\u001b[39mimshow(\u001b[43mye_img\u001b[49m\u001b[38;5;241m.\u001b[39mT, origin\u001b[38;5;241m=\u001b[39m\u001b[38;5;124m'\u001b[39m\u001b[38;5;124mlower\u001b[39m\u001b[38;5;124m'\u001b[39m,extent\u001b[38;5;241m=\u001b[39m[pgrid[\u001b[38;5;241m0\u001b[39m][\u001b[38;5;241m0\u001b[39m][\u001b[38;5;241m0\u001b[39m],pgrid[\u001b[38;5;241m0\u001b[39m][\u001b[38;5;241m-\u001b[39m\u001b[38;5;241m1\u001b[39m][\u001b[38;5;241m0\u001b[39m],pgrid[\u001b[38;5;241m0\u001b[39m][\u001b[38;5;241m0\u001b[39m][\u001b[38;5;241m0\u001b[39m],pgrid[\u001b[38;5;241m1\u001b[39m][\u001b[38;5;241m0\u001b[39m][\u001b[38;5;241m-\u001b[39m\u001b[38;5;241m1\u001b[39m]])\n\u001b[1;32m      6\u001b[0m plt\u001b[38;5;241m.\u001b[39mcolorbar()\n\u001b[1;32m      7\u001b[0m plt\u001b[38;5;241m.\u001b[39mxlabel(\u001b[38;5;124m'\u001b[39m\u001b[38;5;124mn_features\u001b[39m\u001b[38;5;124m'\u001b[39m)\n",
      "\u001b[0;31mNameError\u001b[0m: name 'ye_img' is not defined"
     ]
    },
    {
     "data": {
      "text/plain": [
       "<Figure size 640x480 with 0 Axes>"
      ]
     },
     "metadata": {},
     "output_type": "display_data"
    }
   ],
   "source": [
    "# write code to evaluate the surrogate function and it's standard deviation in the normalized grid\n",
    "# then reshape into image and plot using the plt.imshow function (already provided)\n",
    "\n",
    "plt.figure()\n",
    "plt.imshow(ye_img.T, origin='lower',extent=[pgrid[0][0][0],pgrid[0][-1][0],pgrid[0][0][0],pgrid[1][0][-1]])\n",
    "plt.colorbar()\n",
    "plt.xlabel('n_features')\n",
    "plt.ylabel('max_depth')\n",
    "plt.title('Surrogate function value')\n",
    "\n",
    "plt.figure()\n",
    "plt.imshow(ye_std_img.T, origin='lower',extent=[pgrid[0][0][0],pgrid[0][-1][0],pgrid[1][0][0],pgrid[1][0][-1]])\n",
    "plt.colorbar()\n",
    "plt.xlabel('n_features')\n",
    "plt.ylabel('max_depth')\n",
    "plt.title('Surrogate function std dev');"
   ]
  },
  {
   "cell_type": "code",
   "execution_count": null,
   "metadata": {},
   "outputs": [],
   "source": [
    "#evaluate the acqusition function using skopt.acquisition.gaussian_ei and plot it\n",
    "\n",
    "plt.figure()\n",
    "plt.imshow(acq_val_img.T, origin='lower',extent=[pgrid[0][0][0],pgrid[0][-1][0],pgrid[0][0][0],pgrid[1][0][-1]])\n",
    "plt.colorbar()\n",
    "plt.xlabel('n_features')\n",
    "plt.ylabel('max_depth')\n",
    "plt.title('Acquisition function');"
   ]
  }
 ],
 "metadata": {
  "@webio": {
   "lastCommId": null,
   "lastKernelId": null
  },
  "colab": {
   "collapsed_sections": [],
   "name": "Lecture_2_Exercise2.ipynb",
   "provenance": []
  },
  "kernelspec": {
   "display_name": "02463",
   "language": "python",
   "name": "python3"
  },
  "language_info": {
   "codemirror_mode": {
    "name": "ipython",
    "version": 3
   },
   "file_extension": ".py",
   "mimetype": "text/x-python",
   "name": "python",
   "nbconvert_exporter": "python",
   "pygments_lexer": "ipython3",
   "version": "3.12.8"
  }
 },
 "nbformat": 4,
 "nbformat_minor": 4
}
