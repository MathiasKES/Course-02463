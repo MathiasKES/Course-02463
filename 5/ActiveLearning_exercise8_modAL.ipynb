{
 "cells": [
  {
   "cell_type": "markdown",
   "metadata": {
    "colab_type": "text",
    "id": "WTVQXY4PheDR"
   },
   "source": [
    "# Active Learning Using A Framework\n",
    "\n",
    "This notebook is meant as an example of using an existing python framework to perform active learning. This could potentially make it easier to try many different algorithms and query strategies, as a coding structure for making it easy to replace parts is predefined, as well as implementations of common methods are given, but it requires that the user learns how to take advantage of the framework.\n",
    "\n",
    "As a word of caution, in case you find using the framework presented here confusing, for future work you might work be better off implementing the methods yourself.\n",
    "\n",
    "The framework that we will take a look at is the python package modAL ([github](https://github.com/modAL-python/modAL/tree/dev), [docs](https://modal-python.readthedocs.io/en/latest/)). You should go ahead and read the examples found on github, and if you feel adventurous, you can already take a look at the documentation too, where you can explore the implemented algorithms and how to add your own.\n",
    "\n",
    "You can find the installation details [here](https://github.com/modAL-python/modAL/tree/dev#installation), but it should simply be: \n",
    "\n",
    "`pip install modAL`\n",
    "\n",
    "\n",
    "We give an example of implementating a Query-by-Committee algorithm using a pool-based scenario in the rest of this notebook going through these steps:\n",
    "\n",
    "1. Train a passive learner (random sampling from the pool) while evaluating its accuracy on a test set\n",
    "1. Create several committees of learners with a varying number of committee members\n",
    "1. Train these committees and evaluate accuracy on the test set\n",
    "1. **Exercise**: Compare the learning curves between the passive learner and the different committees\n",
    "\n",
    "You should first read the implementation, try to change things, and run it to get an understand of how it all works. When you feel confident in using the code, you should do the exercise and compare the performances of the different methods.\n",
    "\n",
    "# Questions\n",
    "<font color=blue>\n",
    "1. How is the performance and computational complexity affected by the number of learners?<br>\n",
    "3. Does the curve change in case another uncertainty sampling metric is used.<br>\n",
    "4. How are the active learners dependent on the amount of initial labeled data?\n",
    "\n",
    "\n",
    "If you have more time, you can also try to do the following:\n",
    "- Try to exchange the classification algorithm and rerun, choose for example the SVC and again induce randomness via bagging (bootstrap).<br>\n",
    "- Run on a different data set\n",
    "- Try different approaches to make the base learner differ (see ***the base model and randomness*** below)\n",
    "\n",
    "<font color=black>\n",
    "    \n",
    "### Implementation\n",
    "Be aware of these details of the implementation.\n",
    "\n",
    "**The base model and randomness**:\n",
    "\n",
    "It is important that different committee members/learners differ in their hypothesis/parameters, so we get a exploration of the version space. If the fitting algorithm is not inherently random, i.e., if given the same data it estimates identical parameters every time, the data should be resampled to fit the learners on different data. As you have seen, this can be done by using bagging.\n",
    "\n",
    "The example below uses a [random forest classifier](https://scikit-learn.org/stable/modules/ensemble.html#forest) as the base learner for the committee, which is an ensemble method using bagging already. You can take a look at the [parameters](https://scikit-learn.org/stable/modules/generated/sklearn.ensemble.RandomForestClassifier.html) to control how different the models become. ***Hint***: The number of trees `n_estimators` is important for this.\n",
    "\n",
    "You can also change the resampling to use bagging, and then use any learner you would like to try.\n",
    "\n",
    "\n",
    "**required packages**:\n",
    "\n",
    "The notebook uses the following packages to implement the example\n",
    "\n",
    "- Pandas : to store and evaluate the results\n",
    "- joblib (optional) : to speed up the experiment by running it parallel\n",
    "- tqdm : progress bar to keep track of run times.\n",
    "\n",
    "***Note that it will take quite some time to run some of the code in particular for the larger committees. So equip yourself with patience and perhaps coffee and/or sweets ;)***"
   ]
  },
  {
   "cell_type": "markdown",
   "metadata": {
    "colab_type": "text",
    "id": "3RnCWVYEheDS"
   },
   "source": [
    "## Setup"
   ]
  },
  {
   "cell_type": "code",
   "execution_count": 1,
   "metadata": {
    "colab": {
     "base_uri": "https://localhost:8080/",
     "height": 469
    },
    "colab_type": "code",
    "id": "uD_uQqrHheDT",
    "outputId": "dce4aca3-2485-4c74-a4ab-191502350202"
   },
   "outputs": [
    {
     "name": "stdout",
     "output_type": "stream",
     "text": [
      "Requirement already satisfied: tqdm in c:\\users\\khm\\anaconda3\\envs\\02463\\lib\\site-packages (4.62.3)\n",
      "Requirement already satisfied: colorama in c:\\users\\khm\\anaconda3\\envs\\02463\\lib\\site-packages (from tqdm) (0.4.4)\n",
      "Requirement already satisfied: modAL in c:\\users\\khm\\anaconda3\\envs\\02463\\lib\\site-packages (0.4.1)\n",
      "Requirement already satisfied: pandas>=1.1.0 in c:\\users\\khm\\anaconda3\\envs\\02463\\lib\\site-packages (from modAL) (1.4.1)\n",
      "Requirement already satisfied: scipy>=0.18 in c:\\users\\khm\\anaconda3\\envs\\02463\\lib\\site-packages (from modAL) (1.8.0)\n",
      "Requirement already satisfied: scikit-learn>=0.18 in c:\\users\\khm\\anaconda3\\envs\\02463\\lib\\site-packages (from modAL) (1.0.2)\n",
      "Requirement already satisfied: numpy>=1.13 in c:\\users\\khm\\anaconda3\\envs\\02463\\lib\\site-packages (from modAL) (1.22.2)\n",
      "Requirement already satisfied: pytz>=2020.1 in c:\\users\\khm\\anaconda3\\envs\\02463\\lib\\site-packages (from pandas>=1.1.0->modAL) (2021.3)\n",
      "Requirement already satisfied: python-dateutil>=2.8.1 in c:\\users\\khm\\anaconda3\\envs\\02463\\lib\\site-packages (from pandas>=1.1.0->modAL) (2.8.2)\n",
      "Requirement already satisfied: six>=1.5 in c:\\users\\khm\\anaconda3\\envs\\02463\\lib\\site-packages (from python-dateutil>=2.8.1->pandas>=1.1.0->modAL) (1.16.0)\n",
      "Requirement already satisfied: joblib>=0.11 in c:\\users\\khm\\anaconda3\\envs\\02463\\lib\\site-packages (from scikit-learn>=0.18->modAL) (1.1.0)\n",
      "Requirement already satisfied: threadpoolctl>=2.0.0 in c:\\users\\khm\\anaconda3\\envs\\02463\\lib\\site-packages (from scikit-learn>=0.18->modAL) (2.2.0)\n"
     ]
    }
   ],
   "source": [
    "from collections import namedtuple\n",
    "import pandas as pd\n",
    "import numpy as np\n",
    "import sys\n",
    "!{sys.executable} -m pip install tqdm\n",
    "!{sys.executable} -m pip install modAL\n",
    "\n",
    "from modAL.disagreement import vote_entropy_sampling\n",
    "from modAL.models import ActiveLearner, Committee\n",
    "\n",
    "from sklearn.ensemble import RandomForestClassifier\n",
    "\n",
    "from sklearn.model_selection import train_test_split\n",
    "from sklearn.decomposition import PCA\n",
    "from tqdm.notebook import tqdm, trange\n",
    "#the line above may fail on google colab so you can use the line below in that case but progress bars will looks less nice\n",
    "#from tqdm import tqdm, trange\n",
    "import matplotlib as mpl\n",
    "import matplotlib.pyplot as plt\n",
    "%matplotlib inline\n",
    "\n",
    "ModelClass=RandomForestClassifier\n",
    "\n",
    "\n",
    "import warnings\n",
    "warnings.simplefilter(action='ignore', category=FutureWarning)\n",
    "\n",
    "ResultsRecord = namedtuple('ResultsRecord', ['estimator', 'query_id', 'score'])"
   ]
  },
  {
   "cell_type": "markdown",
   "metadata": {
    "colab_type": "text",
    "id": "E_uXnm2_heDX"
   },
   "source": [
    "## Experiment parameters"
   ]
  },
  {
   "cell_type": "code",
   "execution_count": 2,
   "metadata": {
    "colab": {},
    "colab_type": "code",
    "id": "qjjVD9gsheDY"
   },
   "outputs": [],
   "source": [
    "SEED = 1 # Set our RNG seed for reproducibility.\n",
    "\n",
    "n_queries = 100 # You can lower this to decrease run time\n",
    "\n",
    "# You can increase this to get error bars on your evaluation.\n",
    "# You probably need to use the parallel code to make this reasonable to compute\n",
    "n_repeats = 3"
   ]
  },
  {
   "cell_type": "markdown",
   "metadata": {
    "colab_type": "text",
    "id": "DbQrSqSCheDb"
   },
   "source": [
    "## Load Data"
   ]
  },
  {
   "cell_type": "code",
   "execution_count": 3,
   "metadata": {
    "colab": {},
    "colab_type": "code",
    "id": "njLUSsPzheDc"
   },
   "outputs": [],
   "source": [
    "from sklearn.datasets import load_iris, load_digits\n",
    "\n",
    "# loading the data dataset\n",
    "data_set = load_digits()\n",
    "X = data_set['data']\n",
    "y = data_set['target']\n",
    "\n",
    "# Train test split\n",
    "X_train, X_test, y_train, y_test = train_test_split(\n",
    "    X, y, test_size=1/3, random_state=SEED)"
   ]
  },
  {
   "cell_type": "code",
   "execution_count": 4,
   "metadata": {
    "colab": {},
    "colab_type": "code",
    "id": "PV65ptivheDe"
   },
   "outputs": [],
   "source": [
    "# in case repetitions are desired\n",
    "permutations=[np.random.permutation(X_train.shape[0]) for _ in range(n_repeats)]"
   ]
  },
  {
   "cell_type": "markdown",
   "metadata": {
    "colab_type": "text",
    "id": "2FZbT2sqheDh"
   },
   "source": [
    "## Passive Learner"
   ]
  },
  {
   "cell_type": "code",
   "execution_count": 5,
   "metadata": {
    "colab": {
     "base_uri": "https://localhost:8080/",
     "height": 1000
    },
    "colab_type": "code",
    "id": "40enXhw-heDi",
    "outputId": "861751f9-fcb5-4f02-df7a-461ab3e2a379"
   },
   "outputs": [
    {
     "data": {
      "application/vnd.jupyter.widget-view+json": {
       "model_id": "4cbda591dee9487e98da1a103c61705b",
       "version_major": 2,
       "version_minor": 0
      },
      "text/plain": [
       "  0%|          | 0/3 [00:00<?, ?it/s]"
      ]
     },
     "metadata": {},
     "output_type": "display_data"
    },
    {
     "data": {
      "application/vnd.jupyter.widget-view+json": {
       "model_id": "",
       "version_major": 2,
       "version_minor": 0
      },
      "text/plain": [
       "  0%|          | 0/99 [00:00<?, ?it/s]"
      ]
     },
     "metadata": {},
     "output_type": "display_data"
    },
    {
     "data": {
      "application/vnd.jupyter.widget-view+json": {
       "model_id": "",
       "version_major": 2,
       "version_minor": 0
      },
      "text/plain": [
       "  0%|          | 0/99 [00:00<?, ?it/s]"
      ]
     },
     "metadata": {},
     "output_type": "display_data"
    },
    {
     "data": {
      "application/vnd.jupyter.widget-view+json": {
       "model_id": "",
       "version_major": 2,
       "version_minor": 0
      },
      "text/plain": [
       "  0%|          | 0/99 [00:00<?, ?it/s]"
      ]
     },
     "metadata": {},
     "output_type": "display_data"
    }
   ],
   "source": [
    "random_results = []\n",
    "\n",
    "for i_repeat in tqdm(range(n_repeats)):\n",
    "    learner = ModelClass()\n",
    "    for i_query in tqdm(range(1,n_queries),leave=False):\n",
    "        query_indices=permutations[i_repeat][:1+i_query]\n",
    "        learner=learner.fit(X=X_train[query_indices, :], y=y_train[query_indices])\n",
    "        score = learner.score(X_test, y_test)\n",
    "        \n",
    "        random_results.append(ResultsRecord('random', i_query, score))"
   ]
  },
  {
   "cell_type": "markdown",
   "metadata": {
    "colab_type": "text",
    "id": "foic726aheDl"
   },
   "source": [
    "## A committee"
   ]
  },
  {
   "cell_type": "code",
   "execution_count": 6,
   "metadata": {
    "colab": {},
    "colab_type": "code",
    "id": "DLZOZ-w9heDm"
   },
   "outputs": [],
   "source": [
    "n_members=[2, 4, 8, 16]"
   ]
  },
  {
   "cell_type": "code",
   "execution_count": null,
   "metadata": {
    "colab": {
     "base_uri": "https://localhost:8080/",
     "height": 1000
    },
    "colab_type": "code",
    "id": "bptD4QTXheDp",
    "outputId": "def52681-465e-43d8-a737-d8e6d29720b6"
   },
   "outputs": [],
   "source": [
    "# SEQUENTIAL VERSION OF THE NEXT CELL\n",
    "# SLOWER BUT EASIER TO USE IF YOU ARE UNFAMILIAR WITH PARALLEL PROGRAMMING IN PYTHON\n",
    "\n",
    "committee_results = []\n",
    "\n",
    "for i_repeat in tqdm(range(n_repeats)):\n",
    "    for i_members in tqdm(n_members, desc=f'Round (no. members) {i_repeat}',leave=False):\n",
    "        X_pool = X_train.copy()\n",
    "        y_pool = y_train.copy()\n",
    "\n",
    "        start_indices = permutations[i_repeat][:1]\n",
    "\n",
    "        committee_members = [ActiveLearner(estimator=ModelClass(),\n",
    "                                           X_training=X_train[start_indices, :],\n",
    "                                           y_training=y_train[start_indices],\n",
    "                                           ) for _ in range(i_members)]\n",
    "\n",
    "        committee = Committee(learner_list=committee_members,\n",
    "                              query_strategy=vote_entropy_sampling)\n",
    "\n",
    "        X_pool = np.delete(X_pool, start_indices, axis=0)\n",
    "        y_pool = np.delete(y_pool, start_indices)\n",
    "\n",
    "        for i_query in tqdm(range(1, n_queries),desc=f'Points {i_repeat}',leave=False):\n",
    "            query_idx, query_instance = committee.query(X_pool)\n",
    "\n",
    "            committee.teach(\n",
    "                X=X_pool[query_idx].reshape(1, -1),\n",
    "                y=y_pool[query_idx].reshape(1, )\n",
    "            )\n",
    "            committee._set_classes() #this is needed to update for unknown class labels\n",
    "\n",
    "            X_pool = np.delete(X_pool, query_idx, axis=0)\n",
    "            y_pool = np.delete(y_pool, query_idx)\n",
    "\n",
    "            score = committee.score(X_test, y_test)\n",
    "\n",
    "            committee_results.append(ResultsRecord(\n",
    "                f'committe_{i_members}',\n",
    "                i_query,\n",
    "                score))\n"
   ]
  },
  {
   "cell_type": "code",
   "execution_count": 7,
   "metadata": {
    "colab": {
     "base_uri": "https://localhost:8080/",
     "height": 102
    },
    "colab_type": "code",
    "id": "dhFtiyVqheDr",
    "outputId": "818bea09-9988-437c-b416-7a6bfeb67ab5"
   },
   "outputs": [
    {
     "name": "stdout",
     "output_type": "stream",
     "text": [
      "All jobs done\n"
     ]
    }
   ],
   "source": [
    "# PARRALLEL VERSION OF THE CELL ABOVE\n",
    "# Use this instead if you aren't afraid of working with parallel code or want to learn.\n",
    "\n",
    "from joblib import Parallel, delayed\n",
    "import itertools as it\n",
    "\n",
    "\n",
    "def train_committee(i_repeat, i_members, X_train, y_train):\n",
    "    committee_results = []\n",
    "    print('') # progress bars won't be displayed if not included\n",
    "\n",
    "    X_pool = X_train.copy()\n",
    "    y_pool = y_train.copy()\n",
    "\n",
    "    start_indices = permutations[i_repeat][:1]\n",
    "\n",
    "    committee_members = [ActiveLearner(estimator=ModelClass(),\n",
    "                                       X_training=X_train[start_indices, :],\n",
    "                                       y_training=y_train[start_indices],\n",
    "                                       ) for _ in range(i_members)]\n",
    "\n",
    "    committee = Committee(learner_list=committee_members,\n",
    "                          query_strategy=vote_entropy_sampling)\n",
    "\n",
    "    X_pool = np.delete(X_pool, start_indices, axis=0)\n",
    "    y_pool = np.delete(y_pool, start_indices)\n",
    "\n",
    "    for i_query in tqdm(range(1, n_queries), desc=f'Round {i_repeat} with {i_members} members', leave=False):\n",
    "        query_idx, query_instance = committee.query(X_pool)\n",
    "\n",
    "        committee.teach(\n",
    "            X=X_pool[query_idx].reshape(1, -1),\n",
    "            y=y_pool[query_idx].reshape(1, )\n",
    "        )\n",
    "        committee._set_classes() #this is needed to update for unknown class labels\n",
    "\n",
    "        X_pool = np.delete(X_pool, query_idx, axis=0)\n",
    "        y_pool = np.delete(y_pool, query_idx)\n",
    "\n",
    "        score = committee.score(X_test, y_test)\n",
    "\n",
    "        committee_results.append(ResultsRecord(\n",
    "            f'committe_{i_members}',\n",
    "            i_query,\n",
    "            score))\n",
    "\n",
    "    return committee_results\n",
    "\n",
    "\n",
    "result = Parallel(n_jobs=-1)(delayed(train_committee)(i,i_members,X_train,y_train)\n",
    "                    for i, i_members in it.product(range(n_repeats), n_members))\n",
    "\n",
    "print('All jobs done')\n",
    "committee_results=[r for rs in result for r in rs]\n"
   ]
  },
  {
   "cell_type": "markdown",
   "metadata": {
    "colab_type": "text",
    "id": "-7GD9766heDu"
   },
   "source": [
    "# Compare the results"
   ]
  },
  {
   "cell_type": "code",
   "execution_count": 8,
   "metadata": {
    "colab": {},
    "colab_type": "code",
    "id": "HsTsWg6pheDv"
   },
   "outputs": [],
   "source": [
    "df_results = pd.concat([pd.DataFrame(results)\n",
    "                        for results in\n",
    "                        [random_results, committee_results]])"
   ]
  },
  {
   "cell_type": "code",
   "execution_count": 9,
   "metadata": {
    "colab": {
     "base_uri": "https://localhost:8080/",
     "height": 204
    },
    "colab_type": "code",
    "id": "eZ_BsppIheDy",
    "outputId": "6f313886-0086-4c07-daa7-55eacd8d3cc3"
   },
   "outputs": [
    {
     "data": {
      "text/html": [
       "<div>\n",
       "<style scoped>\n",
       "    .dataframe tbody tr th:only-of-type {\n",
       "        vertical-align: middle;\n",
       "    }\n",
       "\n",
       "    .dataframe tbody tr th {\n",
       "        vertical-align: top;\n",
       "    }\n",
       "\n",
       "    .dataframe thead th {\n",
       "        text-align: right;\n",
       "    }\n",
       "</style>\n",
       "<table border=\"1\" class=\"dataframe\">\n",
       "  <thead>\n",
       "    <tr style=\"text-align: right;\">\n",
       "      <th></th>\n",
       "      <th>estimator</th>\n",
       "      <th>query_id</th>\n",
       "      <th>score</th>\n",
       "    </tr>\n",
       "  </thead>\n",
       "  <tbody>\n",
       "    <tr>\n",
       "      <th>0</th>\n",
       "      <td>random</td>\n",
       "      <td>1</td>\n",
       "      <td>0.155259</td>\n",
       "    </tr>\n",
       "    <tr>\n",
       "      <th>1</th>\n",
       "      <td>random</td>\n",
       "      <td>2</td>\n",
       "      <td>0.123539</td>\n",
       "    </tr>\n",
       "    <tr>\n",
       "      <th>2</th>\n",
       "      <td>random</td>\n",
       "      <td>3</td>\n",
       "      <td>0.200334</td>\n",
       "    </tr>\n",
       "    <tr>\n",
       "      <th>3</th>\n",
       "      <td>random</td>\n",
       "      <td>4</td>\n",
       "      <td>0.235392</td>\n",
       "    </tr>\n",
       "    <tr>\n",
       "      <th>4</th>\n",
       "      <td>random</td>\n",
       "      <td>5</td>\n",
       "      <td>0.225376</td>\n",
       "    </tr>\n",
       "  </tbody>\n",
       "</table>\n",
       "</div>"
      ],
      "text/plain": [
       "  estimator  query_id     score\n",
       "0    random         1  0.155259\n",
       "1    random         2  0.123539\n",
       "2    random         3  0.200334\n",
       "3    random         4  0.235392\n",
       "4    random         5  0.225376"
      ]
     },
     "execution_count": 9,
     "metadata": {},
     "output_type": "execute_result"
    }
   ],
   "source": [
    "df_results.head()"
   ]
  },
  {
   "cell_type": "markdown",
   "metadata": {
    "colab_type": "text",
    "id": "jjigfuVoheD0"
   },
   "source": [
    "**Exercise**: Plot the `score` column for each `estimator` as a function of the `query_id`. \n",
    "\n",
    "If you used `n_repeats>1` then remember to take the mean of the score for each combination of `query_id` and `estimator`, and add error bars if you can.\n",
    "\n",
    "You can extract the results either by using `df_results.values` or use pandas directly for plotting.\n",
    "\n",
    "Plotting from a pandas dataframe using `df.plot()` plots a line for each column, so you should change the dataframe accordingly. See [this link](https://pandas.pydata.org/pandas-docs/stable/user_guide/reshaping.html) on how to reshape a dataframe.\n",
    "\n",
    "Otherwise simple numpy arrays and matplotlib works fine."
   ]
  },
  {
   "cell_type": "code",
   "execution_count": 10,
   "metadata": {
    "colab": {
     "base_uri": "https://localhost:8080/",
     "height": 136
    },
    "colab_type": "code",
    "id": "vyZbBuoQheD1",
    "outputId": "f1be7f89-c1ec-49a6-d2e2-13e34b0a64fe"
   },
   "outputs": [
    {
     "data": {
      "text/plain": [
       "array([['random', 1, 0.15525876460767946],\n",
       "       ['random', 2, 0.12353923205342238],\n",
       "       ['random', 3, 0.2003338898163606],\n",
       "       ...,\n",
       "       ['committe_16', 97, 0.9499165275459098],\n",
       "       ['committe_16', 98, 0.9499165275459098],\n",
       "       ['committe_16', 99, 0.9499165275459098]], dtype=object)"
      ]
     },
     "execution_count": 10,
     "metadata": {},
     "output_type": "execute_result"
    }
   ],
   "source": [
    "df_results.values"
   ]
  },
  {
   "cell_type": "code",
   "execution_count": 11,
   "metadata": {
    "colab": {
     "base_uri": "https://localhost:8080/",
     "height": 389
    },
    "colab_type": "code",
    "id": "B4T83okpheD3",
    "outputId": "fce914cf-6c1b-4052-8723-12dd6f610f0d"
   },
   "outputs": [
    {
     "data": {
      "image/png": "[encoded data removed]",
      "text/plain": [
       "<Figure size 612x432 with 1 Axes>"
      ]
     },
     "metadata": {
      "needs_background": "light"
     },
     "output_type": "display_data"
    }
   ],
   "source": [
    "# PANDAS SOLUTION\n",
    "\n",
    "df_results_mean=df_results.groupby(['estimator','query_id']).mean()\n",
    "df_results_std=df_results.groupby(['estimator','query_id']).std()\n",
    "\n",
    "df_mean=df_results_mean.reset_index().pivot(index='query_id', columns='estimator', values='score')\n",
    "df_std=df_results_std.reset_index().pivot(index='query_id', columns='estimator', values='score')\n",
    "\n",
    "df_mean.plot(figsize=(8.5,6), yerr=df_std)\n",
    "plt.grid('on')"
   ]
  },
  {
   "cell_type": "code",
   "execution_count": null,
   "metadata": {},
   "outputs": [],
   "source": []
  }
 ],
 "metadata": {
  "colab": {
   "collapsed_sections": [],
   "name": "Active_Learning_Framework.ipynb",
   "provenance": []
  },
  "kernelspec": {
   "display_name": "Python 3 (ipykernel)",
   "language": "python",
   "name": "python3"
  },
  "language_info": {
   "codemirror_mode": {
    "name": "ipython",
    "version": 3
   },
   "file_extension": ".py",
   "mimetype": "text/x-python",
   "name": "python",
   "nbconvert_exporter": "python",
   "pygments_lexer": "ipython3",
   "version": "3.9.7"
  },
  "varInspector": {
   "cols": {
    "lenName": 16,
    "lenType": 16,
    "lenVar": 40
   },
   "kernels_config": {
    "python": {
     "delete_cmd_postfix": "",
     "delete_cmd_prefix": "del ",
     "library": "var_list.py",
     "varRefreshCmd": "print(var_dic_list())"
    },
    "r": {
     "delete_cmd_postfix": ") ",
     "delete_cmd_prefix": "rm(",
     "library": "var_list.r",
     "varRefreshCmd": "cat(var_dic_list()) "
    }
   },
   "oldHeight": 283,
   "position": {
    "height": "40px",
    "left": "1119px",
    "right": "20px",
    "top": "112px",
    "width": "573px"
   },
   "types_to_exclude": [
    "module",
    "function",
    "builtin_function_or_method",
    "instance",
    "_Feature"
   ],
   "varInspector_section_display": "none",
   "window_display": false
  }
 },
 "nbformat": 4,
 "nbformat_minor": 1
}
